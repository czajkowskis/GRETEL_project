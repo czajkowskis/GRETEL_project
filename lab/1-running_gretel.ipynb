{
 "cells": [
  {
   "cell_type": "code",
   "execution_count": 1,
   "metadata": {},
   "outputs": [
    {
     "data": {
      "text/plain": [
       "'c:\\\\Projects\\\\aaai\\\\GRETEL'"
      ]
     },
     "execution_count": 1,
     "metadata": {},
     "output_type": "execute_result"
    }
   ],
   "source": [
    "import sys\n",
    "import os\n",
    "module_path = os.path.abspath(os.path.join('..'))\n",
    "sys.path.append(module_path)\n",
    "module_path"
   ]
  },
  {
   "cell_type": "code",
   "execution_count": 2,
   "metadata": {},
   "outputs": [],
   "source": [
    "os.chdir(module_path)"
   ]
  },
  {
   "cell_type": "code",
   "execution_count": 3,
   "metadata": {},
   "outputs": [],
   "source": [
    "from src.evaluation.evaluator_manager import EvaluatorManager\n",
    "from src.evaluation.evaluator_manager_do import EvaluatorManager as PairedEvaluatorManager\n",
    "\n",
    "from src.utils.context import Context\n",
    "import sys"
   ]
  },
  {
   "cell_type": "code",
   "execution_count": 4,
   "metadata": {},
   "outputs": [],
   "source": [
    "config_f_name = '1-ASD_ASD-Custom_OBS.jsonc'"
   ]
  },
  {
   "cell_type": "code",
   "execution_count": 5,
   "metadata": {},
   "outputs": [
    {
     "name": "stdout",
     "output_type": "stream",
     "text": [
      "Generating context for: c:\\Projects\\aaai\\GRETEL\\lab\\config\\1-ASD_ASD-Custom_OBS.jsonc\n",
      ",-1913077171 | INFO | 11652 - Executing: c:\\Projects\\aaai\\GRETEL\\lab\\config\\1-ASD_ASD-Custom_OBS.jsonc Run: 1\n",
      ",-1913077150 | INFO | 11652 - Creating the evaluation manager....................................\n",
      ",-1913077134 | INFO | 11652 - Creating the paired  evaluators.....................................\n",
      ",-1913077050 | INFO | 11652 - Creating: ASD-15273954d84e872cf0b021cd4477bfdc\n",
      ",-1913077050 | INFO | 11652 - Instantiating: src.dataset.generators.asd.ASD\n",
      ",-1913074099 | INFO | 11652 - Saved: ASD-15273954d84e872cf0b021cd4477bfdc\n",
      ",-1913074077 | INFO | 11652 - Created: ASD-15273954d84e872cf0b021cd4477bfdc\n",
      ",-1913074000 | INFO | 11652 - Loading: ASDOracle-9e4f3586dc330143b7849fc540b25739\n",
      ",-1913073937 | INFO | 11652 - Created: ASDOracle-9e4f3586dc330143b7849fc540b25739\n",
      ",-1913073929 | INFO | 11652 - Instantiating: src.explainer.heuristic.obs_dist.ObliviousBidirectionalDistance\n",
      ",-1913073910 | INFO | 11652 - Created: ObliviousBidirectionalSearchExplainer-a9d745213c8e6f7a3fd96e175dabab07\n",
      ",-1913073885 | INFO | 11652 - Evaluating the explainers.............................................................\n",
      ",-1913073884 | INFO | 11652 - Evaluating instance with id 2\n",
      ",-1913073811 | INFO | 11652 - evaluated instance with id 2\n",
      ",-1913073810 | INFO | 11652 - Evaluating instance with id 8\n",
      ",-1913073665 | INFO | 11652 - evaluated instance with id 8\n",
      ",-1913073665 | INFO | 11652 - Evaluating instance with id 15\n",
      ",-1913073251 | INFO | 11652 - evaluated instance with id 15\n",
      ",-1913073251 | INFO | 11652 - Evaluating instance with id 33\n",
      ",-1913072878 | INFO | 11652 - evaluated instance with id 33\n",
      ",-1913072878 | INFO | 11652 - Evaluating instance with id 34\n",
      ",-1913072737 | INFO | 11652 - evaluated instance with id 34\n",
      ",-1913072737 | INFO | 11652 - Evaluating instance with id 49\n",
      ",-1913072450 | INFO | 11652 - evaluated instance with id 49\n",
      ",-1913072448 | INFO | 11652 - Evaluating instance with id 63\n",
      ",-1913071958 | INFO | 11652 - evaluated instance with id 63\n",
      ",-1913071958 | INFO | 11652 - Evaluating instance with id 66\n",
      ",-1913071477 | INFO | 11652 - evaluated instance with id 66\n",
      ",-1913071477 | INFO | 11652 - Evaluating instance with id 72\n",
      ",-1913070979 | INFO | 11652 - evaluated instance with id 72\n",
      ",-1913070979 | INFO | 11652 - Evaluating instance with id 79\n",
      ",-1913070355 | INFO | 11652 - evaluated instance with id 79\n",
      ",-1913070349 | INFO | 11652 - Evaluating instance with id 98\n",
      ",-1913069869 | INFO | 11652 - evaluated instance with id 98\n",
      ",-1913069868 | INFO | 11652 - {'src.evaluation.evaluation_metric_runtime.RuntimeMetric': [{'id': '2', 'value': 0.03185272216796875}, {'id': '8', 'value': 0.11321544647216797}, {'id': '15', 'value': 0.3857419490814209}, {'id': '33', 'value': 0.3455333709716797}, {'id': '34', 'value': 0.10897612571716309}, {'id': '49', 'value': 0.25672078132629395}, {'id': '63', 'value': 0.47476935386657715}, {'id': '66', 'value': 0.4397704601287842}, {'id': '72', 'value': 0.4507124423980713}, {'id': '79', 'value': 0.5810468196868896}, {'id': '98', 'value': 0.4187436103820801}], 'src.evaluation.evaluation_metric_ged.GraphEditDistanceMetric': [{'id': '2', 'value': 1.0}, {'id': '8', 'value': 6.0}, {'id': '15', 'value': 28.0}, {'id': '33', 'value': 18.0}, {'id': '34', 'value': 7.0}, {'id': '49', 'value': 2.0}, {'id': '63', 'value': 11.0}, {'id': '66', 'value': 2.0}, {'id': '72', 'value': 22.0}, {'id': '79', 'value': 14.0}, {'id': '98', 'value': 8.0}], 'src.evaluation.evaluation_metric_oracle_calls.OracleCallsMetric': [{'id': '2', 'value': 11}, {'id': '8', 'value': 145}, {'id': '15', 'value': 452}, {'id': '33', 'value': 403}, {'id': '34', 'value': 84}, {'id': '49', 'value': 311}, {'id': '63', 'value': 739}, {'id': '66', 'value': 739}, {'id': '72', 'value': 487}, {'id': '79', 'value': 816}, {'id': '98', 'value': 581}], 'src.evaluation.evaluation_metric_correctness.CorrectnessMetric': [{'id': '2', 'value': 1}, {'id': '8', 'value': 1}, {'id': '15', 'value': 1}, {'id': '33', 'value': 1}, {'id': '34', 'value': 1}, {'id': '49', 'value': 1}, {'id': '63', 'value': 1}, {'id': '66', 'value': 1}, {'id': '72', 'value': 1}, {'id': '79', 'value': 1}, {'id': '98', 'value': 1}], 'src.evaluation.evaluation_metric_sparsity.SparsityMetric': [{'id': '2', 'value': 0.0012953367875647669}, {'id': '8', 'value': 0.007894736842105263}, {'id': '15', 'value': 0.03718459495351926}, {'id': '33', 'value': 0.02313624678663239}, {'id': '34', 'value': 0.009126466753585397}, {'id': '49', 'value': 0.002628120893561104}, {'id': '63', 'value': 0.014435695538057743}, {'id': '66', 'value': 0.002638522427440633}, {'id': '72', 'value': 0.02838709677419355}, {'id': '79', 'value': 0.01792573623559539}, {'id': '98', 'value': 0.010403120936280884}], 'src.evaluation.evaluation_metric_fidelity.FidelityMetric': [{'id': '2', 'value': -1}, {'id': '8', 'value': 1}, {'id': '15', 'value': 1}, {'id': '33', 'value': 1}, {'id': '34', 'value': -1}, {'id': '49', 'value': -1}, {'id': '63', 'value': 1}, {'id': '66', 'value': 1}, {'id': '72', 'value': 1}, {'id': '79', 'value': 1}, {'id': '98', 'value': 1}], 'src.evaluation.evaluation_metric_oracle_accuracy.OracleAccuracyMetric': [{'id': '2', 'value': 0}, {'id': '8', 'value': 1}, {'id': '15', 'value': 1}, {'id': '33', 'value': 1}, {'id': '34', 'value': 0}, {'id': '49', 'value': 0}, {'id': '63', 'value': 1}, {'id': '66', 'value': 1}, {'id': '72', 'value': 1}, {'id': '79', 'value': 1}, {'id': '98', 'value': 1}]}\n"
     ]
    }
   ],
   "source": [
    "config_path = os.path.join(module_path, 'lab', 'config', config_f_name)\n",
    "runno = 1\n",
    "    \n",
    "print(f\"Generating context for: {config_path}\")\n",
    "context = Context.get_context(config_path)\n",
    "context.run_number = runno\n",
    "\n",
    "context.logger.info(f\"Executing: {context.config_file} Run: {context.run_number}\")\n",
    "context.logger.info(\"Creating the evaluation manager....................................\")\n",
    "\n",
    "\n",
    "if 'do-pairs' in context.conf:\n",
    "    context.logger.info(f\"Creating the paired  evaluators.....................................\")\n",
    "    eval_manager = PairedEvaluatorManager(context)\n",
    "else:\n",
    "    context.logger.info(\"Creating the evaluators......................................................\")\n",
    "    eval_manager = EvaluatorManager(context)\n",
    "\n",
    "context.logger.info(\n",
    "    \"Evaluating the explainers.............................................................\"\n",
    ")\n",
    "eval_manager.evaluate()"
   ]
  }
 ],
 "metadata": {
  "kernelspec": {
   "display_name": "XAI39",
   "language": "python",
   "name": "python3"
  },
  "language_info": {
   "codemirror_mode": {
    "name": "ipython",
    "version": 3
   },
   "file_extension": ".py",
   "mimetype": "text/x-python",
   "name": "python",
   "nbconvert_exporter": "python",
   "pygments_lexer": "ipython3",
   "version": "3.9.18"
  }
 },
 "nbformat": 4,
 "nbformat_minor": 2
}
